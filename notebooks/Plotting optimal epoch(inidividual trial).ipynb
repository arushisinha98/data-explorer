{
 "cells": [
  {
   "cell_type": "code",
   "execution_count": 1,
   "id": "afa59a6a",
   "metadata": {},
   "outputs": [],
   "source": [
    "import numpy as np\n",
    "import re\n",
    "import os\n",
    "import pandas as pd\n",
    "import matplotlib.pyplot as plt\n",
    "from pathlib import Path"
   ]
  },
  {
   "cell_type": "code",
   "execution_count": 2,
   "id": "276c86a2",
   "metadata": {},
   "outputs": [
    {
     "name": "stdout",
     "output_type": "stream",
     "text": [
      "C:\\Users\\User\\Documents\\DS\\GAN_phase_1\\training\n"
     ]
    }
   ],
   "source": [
    "cwd = os.getcwd()\n",
    "print(cwd)"
   ]
  },
  {
   "cell_type": "code",
   "execution_count": null,
   "id": "5e6623b8",
   "metadata": {},
   "outputs": [],
   "source": [
    "path = cwd+r'\\tvae_trn01'  \n",
    "os.chdir(path)"
   ]
  },
  {
   "cell_type": "code",
   "execution_count": 44,
   "id": "a79c9c83",
   "metadata": {},
   "outputs": [],
   "source": [
    "with open (r\"C:\\Users\\User\\Documents\\DS\\GAN_phase_1\\training\\tvae_trn01\\summary_PID20206_20210812_001521_0.txt\", \"r\") as myfile:\n",
    "    data = myfile.readlines()"
   ]
  },
  {
   "cell_type": "code",
   "execution_count": 45,
   "id": "44e32327",
   "metadata": {},
   "outputs": [
    {
     "data": {
      "text/plain": [
       "['PyTorch seed number 5',\n",
       " 'Numpy seed number 5',\n",
       " 'Learning rate: 2e-05',\n",
       " 'Embedding: 128',\n",
       " 'Depth: 3',\n",
       " 'Width: 512',\n",
       " 'Batch size: 750',\n",
       " 'Number of Epochs: 500',\n",
       " 'Loss factor: 1',\n",
       " 'Log frequency: True',\n",
       " 'Encoder cond. vector: False',\n",
       " 'L2 scale: 1e-05',\n",
       " 'Latent cond. vector: False',\n",
       " 'data dimension: 2385',\n",
       " 'Training time 9541.73 seconds']"
      ]
     },
     "execution_count": 45,
     "metadata": {},
     "output_type": "execute_result"
    }
   ],
   "source": [
    "model_info=list(map(lambda x: x[17:-1], data[0:14]))\n",
    "model_info.append(data[-1][17:-1])\n",
    "model_info"
   ]
  },
  {
   "cell_type": "code",
   "execution_count": 46,
   "id": "e5250690",
   "metadata": {},
   "outputs": [],
   "source": [
    "data_info=pd.DataFrame(data[14:-1])\n",
    "data_info[['Epoch','Training_Loss','Validation_Loss']] = data_info[0].str.split(',',expand=True)\n",
    "data_info['Epoch'] = data_info['Epoch'].apply(lambda x: int(x[23::]))\n",
    "data_info['Training_Loss'] = data_info['Training_Loss'].apply(lambda x: float(list((re.compile('-?\\d+.\\d+')).findall(x))[0]))\n",
    "data_info['Validation_Loss'] = data_info['Validation_Loss'].apply(lambda x: float(list((re.compile('\\d+.\\d+')).findall(x))[0]))"
   ]
  },
  {
   "cell_type": "code",
   "execution_count": 47,
   "id": "5c6df772",
   "metadata": {
    "scrolled": true
   },
   "outputs": [
    {
     "data": {
      "text/html": [
       "<div>\n",
       "<style scoped>\n",
       "    .dataframe tbody tr th:only-of-type {\n",
       "        vertical-align: middle;\n",
       "    }\n",
       "\n",
       "    .dataframe tbody tr th {\n",
       "        vertical-align: top;\n",
       "    }\n",
       "\n",
       "    .dataframe thead th {\n",
       "        text-align: right;\n",
       "    }\n",
       "</style>\n",
       "<table border=\"1\" class=\"dataframe\">\n",
       "  <thead>\n",
       "    <tr style=\"text-align: right;\">\n",
       "      <th></th>\n",
       "      <th>Epoch</th>\n",
       "      <th>Training_Loss</th>\n",
       "      <th>Validation_Loss</th>\n",
       "    </tr>\n",
       "  </thead>\n",
       "  <tbody>\n",
       "    <tr>\n",
       "      <th>0</th>\n",
       "      <td>1</td>\n",
       "      <td>251.429630</td>\n",
       "      <td>252.470550</td>\n",
       "    </tr>\n",
       "    <tr>\n",
       "      <th>1</th>\n",
       "      <td>2</td>\n",
       "      <td>123.447075</td>\n",
       "      <td>126.151760</td>\n",
       "    </tr>\n",
       "    <tr>\n",
       "      <th>2</th>\n",
       "      <td>3</td>\n",
       "      <td>106.950760</td>\n",
       "      <td>110.135100</td>\n",
       "    </tr>\n",
       "    <tr>\n",
       "      <th>3</th>\n",
       "      <td>4</td>\n",
       "      <td>103.324135</td>\n",
       "      <td>106.974396</td>\n",
       "    </tr>\n",
       "    <tr>\n",
       "      <th>4</th>\n",
       "      <td>5</td>\n",
       "      <td>101.683210</td>\n",
       "      <td>105.700140</td>\n",
       "    </tr>\n",
       "    <tr>\n",
       "      <th>5</th>\n",
       "      <td>6</td>\n",
       "      <td>100.916145</td>\n",
       "      <td>104.899570</td>\n",
       "    </tr>\n",
       "    <tr>\n",
       "      <th>6</th>\n",
       "      <td>7</td>\n",
       "      <td>100.189570</td>\n",
       "      <td>104.328310</td>\n",
       "    </tr>\n",
       "    <tr>\n",
       "      <th>7</th>\n",
       "      <td>8</td>\n",
       "      <td>99.628030</td>\n",
       "      <td>103.944466</td>\n",
       "    </tr>\n",
       "    <tr>\n",
       "      <th>8</th>\n",
       "      <td>9</td>\n",
       "      <td>99.049920</td>\n",
       "      <td>103.567270</td>\n",
       "    </tr>\n",
       "    <tr>\n",
       "      <th>9</th>\n",
       "      <td>10</td>\n",
       "      <td>98.506150</td>\n",
       "      <td>103.152820</td>\n",
       "    </tr>\n",
       "  </tbody>\n",
       "</table>\n",
       "</div>"
      ],
      "text/plain": [
       "   Epoch  Training_Loss  Validation_Loss\n",
       "0      1     251.429630       252.470550\n",
       "1      2     123.447075       126.151760\n",
       "2      3     106.950760       110.135100\n",
       "3      4     103.324135       106.974396\n",
       "4      5     101.683210       105.700140\n",
       "5      6     100.916145       104.899570\n",
       "6      7     100.189570       104.328310\n",
       "7      8      99.628030       103.944466\n",
       "8      9      99.049920       103.567270\n",
       "9     10      98.506150       103.152820"
      ]
     },
     "execution_count": 47,
     "metadata": {},
     "output_type": "execute_result"
    }
   ],
   "source": [
    "data_info = data_info.drop([0], 1)\n",
    "data_info.head(10)"
   ]
  },
  {
   "cell_type": "code",
   "execution_count": 48,
   "id": "dda8ac8e",
   "metadata": {},
   "outputs": [
    {
     "data": {
      "text/plain": [
       "<matplotlib.axes._subplots.AxesSubplot at 0x1de89360208>"
      ]
     },
     "execution_count": 48,
     "metadata": {},
     "output_type": "execute_result"
    },
    {
     "data": {
      "image/png": "[encoded data removed]",
      "text/plain": [
       "<Figure size 432x288 with 1 Axes>"
      ]
     },
     "metadata": {
      "needs_background": "light"
     },
     "output_type": "display_data"
    }
   ],
   "source": [
    "data_info.plot( 'Epoch' , 'Validation_Loss' )"
   ]
  },
  {
   "cell_type": "code",
   "execution_count": 49,
   "id": "427b8a64",
   "metadata": {},
   "outputs": [
    {
     "data": {
      "text/plain": [
       "76.37142"
      ]
     },
     "execution_count": 49,
     "metadata": {},
     "output_type": "execute_result"
    }
   ],
   "source": [
    "loss_min=min(data_info['Validation_Loss'])\n",
    "loss_min"
   ]
  },
  {
   "cell_type": "code",
   "execution_count": 50,
   "id": "9649a774",
   "metadata": {},
   "outputs": [
    {
     "data": {
      "text/plain": [
       "166.82322200000002"
      ]
     },
     "execution_count": 50,
     "metadata": {},
     "output_type": "execute_result"
    }
   ],
   "source": [
    "loss_range_max=(max(data_info['Validation_Loss'])-loss_min)*0.2+loss_min\n",
    "data_info['Validation_Loss']"
   ]
  },
  {
   "cell_type": "code",
   "execution_count": 54,
   "id": "e0146e21",
   "metadata": {},
   "outputs": [],
   "source": [
    "range_data=data_info[data_info['Validation_Loss']<=loss_range_max]\n",
    "epoch_min=min(range_data['Epoch'])  \n",
    "epoch_max=max(range_data['Epoch']) "
   ]
  },
  {
   "cell_type": "code",
   "execution_count": 55,
   "id": "df1c394b",
   "metadata": {},
   "outputs": [
    {
     "data": {
      "text/plain": [
       "2"
      ]
     },
     "execution_count": 55,
     "metadata": {},
     "output_type": "execute_result"
    }
   ],
   "source": [
    "epoch_min"
   ]
  },
  {
   "cell_type": "code",
   "execution_count": 56,
   "id": "acd43d08",
   "metadata": {},
   "outputs": [
    {
     "data": {
      "text/plain": [
       "67"
      ]
     },
     "execution_count": 56,
     "metadata": {},
     "output_type": "execute_result"
    }
   ],
   "source": [
    "epoch_max"
   ]
  },
  {
   "cell_type": "code",
   "execution_count": null,
   "id": "a759d4ba",
   "metadata": {},
   "outputs": [],
   "source": []
  }
 ],
 "metadata": {
  "kernelspec": {
   "display_name": "Python 3",
   "language": "python",
   "name": "python3"
  },
  "language_info": {
   "codemirror_mode": {
    "name": "ipython",
    "version": 3
   },
   "file_extension": ".py",
   "mimetype": "text/x-python",
   "name": "python",
   "nbconvert_exporter": "python",
   "pygments_lexer": "ipython3",
   "version": "3.7.9"
  }
 },
 "nbformat": 4,
 "nbformat_minor": 5
}
