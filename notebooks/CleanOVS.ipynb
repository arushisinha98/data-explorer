{
 "cells": [
  {
   "cell_type": "code",
   "execution_count": 1,
   "id": "f1fb72c2-d069-4d6a-a3a2-8c7913b3f439",
   "metadata": {
    "tags": []
   },
   "outputs": [],
   "source": [
    "import pandas as pd\n",
    "import numpy as np"
   ]
  },
  {
   "cell_type": "code",
   "execution_count": null,
   "id": "b8245992-9521-41ca-a612-ba29d632a267",
   "metadata": {},
   "outputs": [],
   "source": [
    "# read data\n"
   ]
  },
  {
   "cell_type": "code",
   "execution_count": null,
   "id": "0efca2b1-8ed9-40cb-9af9-fa0a86d3071c",
   "metadata": {},
   "outputs": [],
   "source": [
    "# filter to 2019\n",
    "\n",
    "df['INTERVIEW_DATE'] = pd.to_datetime(df['INTERVIEW_DATE'])\n",
    "df = df[df['INTERVIEW_DATE'].dt.year == 2019]\n",
    "df = df.reset_index(drop = True)"
   ]
  },
  {
   "cell_type": "code",
   "execution_count": null,
   "id": "ebe8ddc1-be27-4624-8634-43a37c220af3",
   "metadata": {},
   "outputs": [],
   "source": [
    "# date of departure = interview date\n",
    "# month of arrival = month(date of departure - length of stay)\n",
    "\n",
    "df = df.rename(columns = {'INTERVIEW_DATE': 'DATE_OF_DEPARTURE'})\n",
    "df['DATE_OF_ARRIVAL'] = df['DATE_OF_DEPARTURE'] - pd.to_timedelta(df['B10'], unit = 'd')\n",
    "df['MONTH_OF_ARRIVAL'] = df['DATE_OF_ARRIVAL'].dt.month"
   ]
  },
  {
   "cell_type": "code",
   "execution_count": null,
   "id": "026d3abf-b256-46a0-9c21-bb76c177960c",
   "metadata": {},
   "outputs": [],
   "source": [
    "# mode of transport (depature/arrival) = air/land/sea\n",
    "\n",
    "mode_map = {}\n",
    "df['MODE_OF_DEPARTURE'] = df['M1'].map(mode_map)\n",
    "df['MODE_OF_ARRIVAL'] = df['B2'].map(mode_map)"
   ]
  },
  {
   "cell_type": "code",
   "execution_count": null,
   "id": "6be6e52a-32fd-4481-b22e-13ca15db3281",
   "metadata": {},
   "outputs": [],
   "source": [
    "# language of interview\n",
    "\n",
    "df = df.rename(columns = {'LanguageQ': 'LANGUAGE_OF_INTERVIEW'})"
   ]
  },
  {
   "cell_type": "code",
   "execution_count": null,
   "id": "525f9eb5-9349-45a5-9703-cec4761f53e7",
   "metadata": {},
   "outputs": [],
   "source": [
    "# type of passenger\n",
    "\n",
    "df = df.rename(columns = {'A1': 'PASSENGER_TYPE'})"
   ]
  },
  {
   "cell_type": "code",
   "execution_count": null,
   "id": "1c4fcbac-8fb3-4fcf-9e45-7df430aedd0d",
   "metadata": {},
   "outputs": [],
   "source": [
    "# age band\n",
    "\n",
    "age_map = {}\n",
    "df['AGE_BAND'] = df['a2.r'].map(age_map)"
   ]
  },
  {
   "cell_type": "code",
   "execution_count": null,
   "id": "4bf26f36-5c45-43b3-ab98-448eacec9fae",
   "metadata": {},
   "outputs": [],
   "source": [
    "# nationality\n",
    "\n",
    "df = df.rename(columns = {'A4': 'NATIONALITY'})"
   ]
  },
  {
   "cell_type": "code",
   "execution_count": null,
   "id": "4a0b99ec-1ffc-4050-b786-bd673fd10056",
   "metadata": {},
   "outputs": [],
   "source": [
    "# country of residence\n",
    "\n",
    "df = df.rename(columns = {'A5': 'COUNTRY_OF_RESIDENCE'})"
   ]
  },
  {
   "cell_type": "code",
   "execution_count": null,
   "id": "a3badefa-edfd-48e0-a9fe-c8c339ff3133",
   "metadata": {},
   "outputs": [],
   "source": [
    "# time since last visit\n",
    "\n",
    "time_map = {}\n",
    "df['TIME_SINCE_LAST_VISIT'] = df['B1b'].map(time_map).fillna(0)"
   ]
  },
  {
   "cell_type": "code",
   "execution_count": null,
   "id": "b3b03637-3cb7-440e-b170-cf23ae0b6db9",
   "metadata": {},
   "outputs": [],
   "source": [
    "# place of origin =\n",
    "# - state in Malaysia if mode of arrival == land\n",
    "# - country before Singapore o/w\n",
    "# - country of residence if missing\n",
    "# - nationality if missing\n",
    "\n",
    "df['PLACE_OF_ORIGIN'] = np.where(df['MODE_OF_ARRIVAL'] == 'Land', df['B4'], df['B7a'])\n",
    "df['PLACE_OF_ORIGIN'] = df['PLACE_OF_ORIGIN'].fillna(df['COUNTRY_OF_RESIDENCE']).fillna(df['NATIONALITY'])"
   ]
  },
  {
   "cell_type": "code",
   "execution_count": null,
   "id": "45602126-fe74-4fed-aa6a-2cf7334f47ba",
   "metadata": {},
   "outputs": [],
   "source": [
    "# destination =\n",
    "# - country after Singapore\n",
    "# - country of residence if missing\n",
    "# - nationality if missing\n",
    "\n",
    "df['DESTINATION'] = df['B9a'].fillna(df['COUNTRY_OF_RESIDENCE']).fillna(df['NATIONALITY'])"
   ]
  },
  {
   "cell_type": "code",
   "execution_count": null,
   "id": "7c2b3339-b95c-4081-9dcf-0d0edfc631a0",
   "metadata": {},
   "outputs": [],
   "source": [
    "# mode of transport = passenger class x mode of departure\n",
    "\n"
   ]
  },
  {
   "cell_type": "code",
   "execution_count": null,
   "id": "a9381197-1e3d-475b-b6e7-1e6d00a0f2af",
   "metadata": {},
   "outputs": [],
   "source": [
    "# nights spent before/after Singapore\n",
    "\n",
    "df = df.rename(columns = {'B7c': 'NIGHTS_BEFORE_SG',\n",
    "                          'B9c': 'NIGHTS_AFTER_SG'})\n",
    "\n",
    "# impute nights spent before Singapore with\n",
    "# - 0 if place of origin == country of residence or nationality\n",
    "# - mode when grouped by same place of origin, if data is available\n",
    "# - mode of all filled values o/w\n",
    "\n",
    "conditions = (df['PLACE_OF_ORIGIN'] == df['COUNTRY_OF_RESIDENCE']) | (df['PLACE_OF_ORIGIN'] == df['NATIONALITY'])\n",
    "df.loc[conditions, 'NIGHTS_BEFORE_SG'] = df.loc[conditions, 'NIGHTS_BEFORE_SG'].fillna(0)\n",
    "modes = df.groupby('PLACE_OF_ORIGIN')['NIGHTS_BEFORE_SG'].apply(lambda x: x.mode().iloc[0])\n",
    "df['NIGHTS_BEFORE_SG'] = df.apply(\n",
    "    lambda row: modes[row['PLACE_OF_ORIGIN']] if pd.isna(row['NIGHTS_BEFORE_SG']) else row['NIGHTS_BEFORE_SG'],\n",
    "    axis = 1\n",
    ")\n",
    "overall_mode = df['NIGHTS_BEFORE_SG'].mode().iloc[0]\n",
    "df['NIGHTS_BEFORE_SG'].fillna(overall_mode, inplace = True)\n",
    "\n",
    "# impute nights spent after Singapore with\n",
    "# - 0 if destination == country of residence or nationality\n",
    "# - mode when grouped by same destination, if data is available\n",
    "# - mode of all filled values o/w\n",
    "\n",
    "conditions = (df['DESTINATION'] == df['COUNTRY_OF_RESIDENCE']) | (df['PLACE_OF_ORIGIN'] == df['NATIONALITY'])\n",
    "df.loc[conditions, 'NIGHTS_AFTER_SG'] = df.loc[conditions, 'NIGHTS_AFTER_SG'].fillna(0)\n",
    "modes = df.groupby('DESTINATION')['NIGHTS_AFTER_SG'].apply(lambda x: x.mode().iloc[0])\n",
    "df['NIGHTS_AFTER_SG'] = df.apply(\n",
    "    lambda row: modes[row['DESTINATION']] if pd.isna(row['NIGHTS_AFTER_SG']) else row['NIGHTS_AFTER_SG'],\n",
    "    axis = 1\n",
    ")\n",
    "overall_mode = df['NIGHTS_AFTER_SG'].mode().iloc[0]\n",
    "df['NIGHTS_AFTER_SG'].fillna(overall_mode, inplace = True)"
   ]
  },
  {
   "cell_type": "code",
   "execution_count": null,
   "id": "bad8f76f-bc5f-4804-b2e9-aac775a8362d",
   "metadata": {},
   "outputs": [],
   "source": [
    "# length of stay\n",
    "\n",
    "df = df.rename(columns = {'B10': 'LENGTH_OF_STAY'})"
   ]
  },
  {
   "cell_type": "code",
   "execution_count": null,
   "id": "f9457b6b-fec6-4751-bad9-c9c6368f1556",
   "metadata": {},
   "outputs": [],
   "source": [
    "# travel companion(s)\n",
    "\n",
    "# includes spouse\n",
    "df['TRAVEL_COMPANION=SPOUSE'] = df['B12_2'].fillna(0)\n",
    "\n",
    "# includes partner\n",
    "df['TRAVEL_COMPANION=PARTNER'] = df['B12_3'].fillna(0)\n",
    "\n",
    "# number of parents\n",
    "df['N_PARENTS'] = df['B12NUMBER_2'].fillna(0)\n",
    "\n",
    "# number of grandparents\n",
    "df['N_GRANDPARENTS'] = df['B12NUMBER_3'].fillna(0)\n",
    "\n",
    "# number of siblings\n",
    "df['N_SIBLINGS'] = df['B12NUMBER_4'].fillna(0)\n",
    "\n",
    "# number of other relatives\n",
    "df['N_OTHER_RELATIVES'] = df['B12NUMBER_5'].fillna(0)\n",
    "\n",
    "# number of friends\n",
    "df['N_FRIENDS'] = df['B12NUMBER_6'].fillna(0)\n",
    "\n",
    "# number of other companions\n",
    "df['N_OTHERS'] = df[['B12NUMBER_7', 'B12NUMBER_8', 'B12NUMBER_9']].sum(axis=1, skipna=True).fillna(0)\n",
    "\n",
    "# number of children\n",
    "df['N_CHILDREN'] = df['B12NUMBER_2'].fillna(0)\n",
    "\n",
    "# boolean for child(ren) in 0-12, 13-19 age band\n",
    "df['BOOL_CHILD_0to12Years'] = df['B12b_1'].fillna(0)\n",
    "df['BOOL_CHILD_13to19Years'] = df['B12b_2'].fillna(0)"
   ]
  },
  {
   "cell_type": "code",
   "execution_count": null,
   "id": "570161c6-a56e-4b2a-bfda-8c0d144e6083",
   "metadata": {},
   "outputs": [],
   "source": [
    "# main purpose of visit\n",
    "\n",
    "pov_map = {\n",
    "    'B13a_111': 'Event',\n",
    "    'B13a_112': 'Leisure',\n",
    "    'B13a_113': 'Accompany',\n",
    "    'B13a_114': 'Visit',\n",
    "    'B13a_115': 'Gather Info',\n",
    "    'B13a_116': 'Business',\n",
    "    'B13a_117': 'Healthcare',\n",
    "    'B13a_118': 'Education',\n",
    "    'B13a_119': 'Other'\n",
    "}\n",
    "\n",
    "def MainPOV(row):\n",
    "    active_columns = [col for col in columns if row[col] == 1]\n",
    "    if len(active_columns) == 1:\n",
    "        return pov_map[active_columns[0]]\n",
    "    else:\n",
    "        return 'Other'\n",
    "    \n",
    "df['MAIN_POV'] = df.apply(MainPOV, axis=1)"
   ]
  },
  {
   "cell_type": "code",
   "execution_count": null,
   "id": "63a692ac-df29-445d-8797-604b1d9d3bc0",
   "metadata": {},
   "outputs": [],
   "source": [
    "# map purpose of visit subcategory\n",
    "\n",
    "subpov_map = {\n",
    "    'B13b_1': 'POV = (Event) Family Entertainment',\n",
    "    'B13b_2': 'POV = (Event) Performing Arts',\n",
    "    'B13b_3': 'POV = (Event) Sporting',\n",
    "    'B13b_4': 'POV = (Event) Music-related',\n",
    "    'B13b_5': 'POV = (Event) Cultural Festival',\n",
    "    'B13b_6': 'POV = (Event) Party',\n",
    "    'B13b_7': 'POV = (Event) Other',\n",
    "    'B13b_8': 'POV = (Leisure) Food',\n",
    "    'B13b_9': 'POV = (Leisure) Nightlife',\n",
    "    'B13b_10': 'POV = (Leisure) Shopping',\n",
    "    'B13b_11': 'POV = (Leisure) Experience Cultures',\n",
    "    'B13b_12': 'POV = (Leisure) Cruise',\n",
    "    'B13b_13': 'POV = (Leisure) Sightseeing',\n",
    "    'B13b_14': 'POV = (Leisure) Rest & Relax',\n",
    "    'B13b_15': 'POV = (Leisure) Integrated Resorts',\n",
    "    'B13b_771': 'POV = (Leisure) Other',\n",
    "    'B13b_21': 'POV = (Accompany) Business Visitor',\n",
    "    'B13b_22': 'POV = (Accompany) Outpatient Consultation / Treatment',\n",
    "    'B13b_23': 'POV = (Accompany) Day Surgery',\n",
    "    'B13b_24': 'POV = (Accompany) Inpatient Consultation / Treatment',\n",
    "    'B13b_25': 'POV = (Accompany) International Student',\n",
    "    'B13b_772': 'POV = (Accompany) Other',\n",
    "    'B13b_31': 'POV = (Visit) Locals',\n",
    "    'B13b_32': 'POV = (Visit) International Student',\n",
    "    'B13b_33': 'POV = (Gather Info) Healthcare',\n",
    "    'B13b_34': 'POV = (Gather Info) Education',\n",
    "    'B13b_773': 'POV = (Gather Info) Other',\n",
    "    'B13b_41': 'POV = (Business) Meeting',\n",
    "    'B13b_42': 'POV = (Business) Sponsored Holiday',\n",
    "    'B13b_43': 'POV = (Business) Convention / Conference',\n",
    "    'B13b_44': 'POV = (Business) Exhibition / Trade Show',\n",
    "    'B13b_45': 'POV = (Business) General',\n",
    "    'B13b_774': 'POV = (Business) Other',\n",
    "    'B13b_51': 'POV = (Healthcare) Outpatient Consultation / Treatment',\n",
    "    'B13b_52': 'POV = (Healthcare) Day Surgery',\n",
    "    'B13b_53': 'POV = (Healthcare) Inpatient Consultation / Treatment',\n",
    "    'B13b_775': 'POV = (Healthcare) Other',\n",
    "    'B13b_61': 'POV = (Education) Company Training',\n",
    "    'B13b_62': 'POV = (Education) Executive Training',\n",
    "    'B13b_63': 'POV = (Education) Study Mission',\n",
    "    'B13b_64': 'POV = (Education) Skills Development',\n",
    "    'B13b_65': 'POV = (Education) Personal Enrichment',\n",
    "    'B13b_66': 'POV = (Education) School Trip',\n",
    "    'B13b_67': 'POV = (Education) Student Event',\n",
    "    'B13b_68': 'POV = (Education) Student Enrichment',\n",
    "    'B13b_776': 'POV = (Education) Other',\n",
    "    'B13b_120': 'POV = (Other) Singapore as a Non-overnight Layover',\n",
    "    'B13b_121': 'POV = (Other) Singapore as an Overnight Layover',\n",
    "    'B13b_122': 'POV = (Other) Job Opportunities',\n",
    "    'B13b_124': 'POV = (Other) Visa / Permit-related',\n",
    "    'B13b_996': 'POV = (Other) Other'\n",
    "}\n",
    "df.rename(columns = subpov_map, inplace = True)\n",
    "df[list(subpov_map.values)] = df[list(subpov_map.values)].applymap(lambda x: False if pd.isna(x) or x == 0 else True)"
   ]
  },
  {
   "cell_type": "code",
   "execution_count": null,
   "id": "7bd61e5e-ca55-4a30-8bd1-8966dfde835b",
   "metadata": {},
   "outputs": [],
   "source": [
    "# purchased travel package\n",
    "\n",
    "df['TRAVEL_PACKAGE'] = df['C1a'].fillna(0)\n",
    "df['tr.type'].fillna(\"\")\n",
    "\n",
    "# package type = travel type x inclusion of travel fare\n",
    "\n",
    "def PackageType(row):\n",
    "    tr_type = row['tr.type']\n",
    "    if row['tr.type']:\n",
    "        \n",
    "    if row['C2']:\n",
    "        fare_type = \" (incl. Travel Fare)\"\n",
    "    else:\n",
    "        fare_type = \"\"\n",
    "    return f\"{tr_type}{fare_type}\"\n",
    "\n",
    "df['PACKAGE_TYPE'] = df.apply(PackageType, axis=1)\n",
    "df['PACKAGE_TYPE'] = df['PACKAGE_TYPE'].astype(str)\n",
    "\n",
    "# cost of travel package\n",
    "\n",
    "df['$_PACKAGE_PER_PAX'] = df['C1b.r'].fillna(0)"
   ]
  },
  {
   "cell_type": "code",
   "execution_count": null,
   "id": "4ea59d36-82a4-4ca9-9181-ad0e733a23c1",
   "metadata": {},
   "outputs": [],
   "source": [
    "# accommodation\n",
    "# - if no nights in package, fill with 0\n",
    "# - if no nights in paid accommodation, fill with nights in package\n",
    "# - if no nights in unpaid accommodation, fill with length of stay - nights in paid accommodation\n",
    "# - if no specified pax, impute with 1 + total number of travel companions\n",
    "\n",
    "df['NIGHTS_IN_PACKAGE'] = df['C1c'].fillna(0)\n",
    "df['NIGHTS_IN_PAID_ACCOMMODATION'] = df['C4c_8'].fillna(df['NIGHTS_IN_PACKAGE'], inplace=True)\n",
    "df['NIGHTS_IN_UNPAID_ACCOMMODATION'] = df['C4c_12'].fillna(df['LENGTH_OF_STAY'] - df['NIGHTS_IN_PAID_ACCOMMODATION'], inplace=True)\n",
    "\n",
    "df['$_ACCOMMODATION_TOTAL'] = df[['c4d_1.r', 'c4d_2.r', 'c4d_3.r', 'c4d_4.r', 'c4d_5.r', 'c4d_6.r', 'c4d_7.r', 'c4d_8.r']].sum(axis=1)\n",
    "\n",
    "total_companions = [\n",
    "    'TRAVEL_COMPANION=SPOUSE',\n",
    "    'TRAVEL_COMPANION=PARTNER',\n",
    "    'N_PARENTS',\n",
    "    'N_GRANDPARENTS',\n",
    "    'N_SIBLINGS',\n",
    "    'N_OTHER_RELATIVES',\n",
    "    'N_FRIENDS',\n",
    "    'N_OTHERS',\n",
    "    'N_CHILDREN'\n",
    "]\n",
    "n_pax = df[total_companions].sum(axis=1) + 1\n",
    "df['PAX_IN_ACCOMMODATION'] = df['C5'].fillna(n_pax, inplace=True)"
   ]
  },
  {
   "cell_type": "code",
   "execution_count": null,
   "id": "e75c4ab9-436b-4895-9888-840e7e7a6009",
   "metadata": {},
   "outputs": [],
   "source": [
    "# food & beverages\n",
    "# - not in package unless declared\n",
    "# - if no total spend, impute with sum of spend across all dining options\n",
    "# - if no specified pax, impute with pax in accommodation\n",
    "\n",
    "df['F&B_IN_PACKAGE'] = df['C6_1'].fillna(0)\n",
    "df['F&B_HAWKER_IN_PACKAGE'] = df['C6b_1_1'].fillna(0)\n",
    "df['F&B_CASUAL_IN_PACKAGE'] = df['C6b_2_1'].fillna(0)\n",
    "df['F&B_FINE_IN_PACKAGE'] = df['C6b_3_1'].fillna(0)\n",
    "df['F&B_OTHER_IN_PACKAGE'] = df['C6b_4_1'].fillna(0)\n",
    "\n",
    "dining_map = {\n",
    "    'c6c_1.r': '$_F&B_HAWKER',\n",
    "    'c6c_2.r': '$_F&B_CASUAL',\n",
    "    'c6c_3.r': '$_F&B_FINE',\n",
    "    'c6c_4.r': '$_F&B_OTHER'\n",
    "}\n",
    "df.rename(columns = dining_map, inplace = True)\n",
    "df['$_F&B_TOTAL'] = df['c6.tot'].fillna(df[['$_F&B_HAWKER','$_F&B_CASUAL','$_F&B_FINE','$_F&B_OTHER']].sum(axis=1))\n",
    "\n",
    "df['PAX_DINING'] = df['C6d'].fillna(df['PAX_IN_ACCOMMODATION'])"
   ]
  },
  {
   "cell_type": "code",
   "execution_count": null,
   "id": "831631e4-e272-41a6-9492-56d715313b9e",
   "metadata": {},
   "outputs": [],
   "source": [
    "# transportation\n",
    "# - not in package unless declared\n",
    "# - if no total spend, impute with sum of spend in vehicle and other\n",
    "# - if no specified pax, impute with pax in accommodation\n",
    "\n",
    "df['TRANSPORT_IN_PACKAGE'] = df['C7a_1'].fillna(0)\n",
    "\n",
    "transport_map = {\n",
    "    'C7b_1.r': '$_TRANSPORT_VEHICLE',\n",
    "    'C7b_2.r': '$_TRANSPORT_OTHER',\n",
    "}\n",
    "df.rename(columns = transport_map, inplace = True)\n",
    "df['$_TRANSPORT_TOTAL'] = df['c7.tot'].fillna(df[['$_TRANSPORT_VEHICLE','$_TRANSPORT_OTHER']].sum(axis=1))\n",
    "\n",
    "df['PAX_TRANSPORT'] = df['C7c'].fillna(df['PAX_IN_ACCOMMODATION'])"
   ]
  },
  {
   "cell_type": "code",
   "execution_count": null,
   "id": "4d904137-95c6-41da-8dff-5978bdde38c9",
   "metadata": {},
   "outputs": [],
   "source": [
    "# tour purchase method\n",
    "\n",
    "method_map = {\n",
    "    'C8ii_1': 'Pre-arrival Online',\n",
    "    'C8ii_2': 'Post-arrival Online',\n",
    "    'C8ii_4': 'Tour Desk',\n",
    "    'C8ii_5': 'Hotel',\n",
    "    'C8ii_6': 'Visitor Centre'\n",
    "}\n",
    "\n",
    "def PurchaseMethod(row):\n",
    "    active_columns = [col for col in columns if row[col] == 1]\n",
    "    if len(active_columns) == 1:\n",
    "        return method_map[active_columns[0]]\n",
    "    else:\n",
    "        return 'Other'\n",
    "    \n",
    "df['TOUR_PURCHASE_METHOD'] = df.apply(PurchaseMethod, axis=1)"
   ]
  },
  {
   "cell_type": "code",
   "execution_count": null,
   "id": "62be110e-7a6a-4495-bdf8-ffc638ed28f1",
   "metadata": {},
   "outputs": [],
   "source": [
    "# friends/family in Singapore\n",
    "# - no unless declared\n",
    "\n",
    "df['FRIENDS_FAMILY_IN_SG'] = df['C9'].fillna(0)"
   ]
  },
  {
   "cell_type": "code",
   "execution_count": null,
   "id": "36a2eab3-0e37-4026-a82b-b11b99269eba",
   "metadata": {},
   "outputs": [],
   "source": [
    "# sightseeing & entertainment\n",
    "\n"
   ]
  }
 ],
 "metadata": {
  "kernelspec": {
   "display_name": "default:Python",
   "language": "python",
   "name": "conda-env-default-py"
  },
  "language_info": {
   "codemirror_mode": {
    "name": "ipython",
    "version": 3
   },
   "file_extension": ".py",
   "mimetype": "text/x-python",
   "name": "python",
   "nbconvert_exporter": "python",
   "pygments_lexer": "ipython3",
   "version": "3.9.16"
  }
 },
 "nbformat": 4,
 "nbformat_minor": 5
}
