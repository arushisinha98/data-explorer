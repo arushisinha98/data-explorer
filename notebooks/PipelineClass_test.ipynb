{
 "cells": [
  {
   "cell_type": "markdown",
   "id": "c0db235a-06e8-4707-a6b8-3a0e54d37d96",
   "metadata": {},
   "source": [
    "Install Libraries"
   ]
  },
  {
   "cell_type": "code",
   "execution_count": 1,
   "id": "7c7c6e6a-1705-41e4-a842-0b8aadcc93ea",
   "metadata": {
    "tags": []
   },
   "outputs": [],
   "source": [
    "%%capture\n",
    "import os\n",
    "os.chdir('..')\n",
    "\n",
    "!pip install -r 'requirements.txt'"
   ]
  },
  {
   "cell_type": "markdown",
   "id": "3ca6183b-d182-4411-869e-6f68171b1910",
   "metadata": {},
   "source": [
    "1. Import the script"
   ]
  },
  {
   "cell_type": "code",
   "execution_count": 2,
   "id": "3c745b8c-ebf1-40b6-ab3e-e2b607784535",
   "metadata": {
    "tags": []
   },
   "outputs": [],
   "source": [
    "os.chdir('src/')\n",
    "\n",
    "from PipelineClass import Pipeline"
   ]
  },
  {
   "cell_type": "markdown",
   "id": "89d78084-559a-4057-8399-a396b20365e9",
   "metadata": {},
   "source": [
    "2. Set up test variables"
   ]
  },
  {
   "cell_type": "code",
   "execution_count": 3,
   "id": "9b677d13-68fe-433a-a3e7-7448bbbec695",
   "metadata": {
    "tags": []
   },
   "outputs": [],
   "source": [
    "import pandas as pd\n",
    "\n",
    "input_df = pd.DataFrame(columns = ['A','B','C','D'],\n",
    "                        data = [['banana',2,3,'fruit'],\n",
    "                                [5,6,7,'veggie']])"
   ]
  },
  {
   "cell_type": "markdown",
   "id": "5fbf2dd4-8468-4f72-aa92-18031532993a",
   "metadata": {},
   "source": [
    "3. Execute script functions"
   ]
  },
  {
   "cell_type": "code",
   "execution_count": 4,
   "id": "d7221e9e-4624-4e54-b9a6-f13d798b8865",
   "metadata": {
    "tags": []
   },
   "outputs": [],
   "source": [
    "pipeline = Pipeline(input_df)"
   ]
  },
  {
   "cell_type": "code",
   "execution_count": 5,
   "id": "c92dc63b-62af-4112-8072-52a7ee2f96e8",
   "metadata": {},
   "outputs": [
    {
     "name": "stdout",
     "output_type": "stream",
     "text": [
      "Functions available in the class object:\n",
      "- DropColumns\n",
      "- RecodeColumnNames\n",
      "- RecodeColumnTypes\n",
      "- RecodeColumnValues\n",
      "- SumColumnValues\n"
     ]
    }
   ],
   "source": [
    "pipeline.listFunctions()"
   ]
  },
  {
   "cell_type": "code",
   "execution_count": 6,
   "id": "0421792a-4c69-4917-8cb3-2c5db2122c6e",
   "metadata": {
    "tags": []
   },
   "outputs": [],
   "source": [
    "pipeline.DropColumns([\"C\"])\n",
    "pipeline.RecodeColumnNames({'A':'a','B':'b'})\n",
    "pipeline.RecodeColumnTypes({'b': 'string', 'D': 'bool'})\n",
    "pipeline.RecodeColumnValues('a',{5: 'apple'})\n",
    "pipeline.SumColumnValues('b+D')"
   ]
  },
  {
   "cell_type": "code",
   "execution_count": 7,
   "id": "bc617a42-08e4-4c25-b405-95e226dbac2e",
   "metadata": {
    "tags": []
   },
   "outputs": [
    {
     "name": "stdout",
     "output_type": "stream",
     "text": [
      "\n",
      "1. The following columns were dropped:            ['C']\n",
      "2. The following dictionary was used to recode the names of the columns:            {'A': 'a', 'B': 'b'}\n",
      "3. The following dictionary was used to recode the dtypes of the columns:            {'b': 'string', 'D': 'bool'}\n",
      "4. The following dictionary was used to recode the dtypes of the columns:            {'a': 'categorical'}\n",
      "5. The following dictionary was used to recode the values of column 'a':            {5: 'apple'}\n",
      "\n"
     ]
    }
   ],
   "source": [
    "print(pipeline)"
   ]
  },
  {
   "cell_type": "code",
   "execution_count": 8,
   "id": "4aad42db-e1e5-4a95-8f6c-d83273458923",
   "metadata": {
    "tags": []
   },
   "outputs": [
    {
     "data": {
      "text/html": [
       "<div>\n",
       "<style scoped>\n",
       "    .dataframe tbody tr th:only-of-type {\n",
       "        vertical-align: middle;\n",
       "    }\n",
       "\n",
       "    .dataframe tbody tr th {\n",
       "        vertical-align: top;\n",
       "    }\n",
       "\n",
       "    .dataframe thead th {\n",
       "        text-align: right;\n",
       "    }\n",
       "</style>\n",
       "<table border=\"1\" class=\"dataframe\">\n",
       "  <thead>\n",
       "    <tr style=\"text-align: right;\">\n",
       "      <th></th>\n",
       "      <th>a</th>\n",
       "      <th>b</th>\n",
       "      <th>D</th>\n",
       "    </tr>\n",
       "  </thead>\n",
       "  <tbody>\n",
       "    <tr>\n",
       "      <th>0</th>\n",
       "      <td>banana</td>\n",
       "      <td>2</td>\n",
       "      <td>True</td>\n",
       "    </tr>\n",
       "    <tr>\n",
       "      <th>1</th>\n",
       "      <td>apple</td>\n",
       "      <td>6</td>\n",
       "      <td>True</td>\n",
       "    </tr>\n",
       "  </tbody>\n",
       "</table>\n",
       "</div>"
      ],
      "text/plain": [
       "        a  b     D\n",
       "0  banana  2  True\n",
       "1   apple  6  True"
      ]
     },
     "execution_count": 8,
     "metadata": {},
     "output_type": "execute_result"
    }
   ],
   "source": [
    "pipeline.data"
   ]
  },
  {
   "cell_type": "code",
   "execution_count": null,
   "id": "2afa4f81-f67c-4c13-b866-a9871785d49c",
   "metadata": {},
   "outputs": [],
   "source": []
  }
 ],
 "metadata": {
  "kernelspec": {
   "display_name": "default:Python",
   "language": "python",
   "name": "conda-env-default-py"
  },
  "language_info": {
   "codemirror_mode": {
    "name": "ipython",
    "version": 3
   },
   "file_extension": ".py",
   "mimetype": "text/x-python",
   "name": "python",
   "nbconvert_exporter": "python",
   "pygments_lexer": "ipython3",
   "version": "3.9.16"
  }
 },
 "nbformat": 4,
 "nbformat_minor": 5
}
