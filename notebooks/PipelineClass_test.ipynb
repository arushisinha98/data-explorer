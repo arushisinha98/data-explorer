{
 "cells": [
  {
   "cell_type": "markdown",
   "id": "c0db235a-06e8-4707-a6b8-3a0e54d37d96",
   "metadata": {},
   "source": [
    "Install Libraries"
   ]
  },
  {
   "cell_type": "code",
   "execution_count": 1,
   "id": "7c7c6e6a-1705-41e4-a842-0b8aadcc93ea",
   "metadata": {
    "tags": []
   },
   "outputs": [],
   "source": [
    "%%capture\n",
    "import os\n",
    "os.chdir('..')\n",
    "\n",
    "!pip install -r 'requirements.txt'"
   ]
  },
  {
   "cell_type": "markdown",
   "id": "3ca6183b-d182-4411-869e-6f68171b1910",
   "metadata": {},
   "source": [
    "1. Import the script"
   ]
  },
  {
   "cell_type": "code",
   "execution_count": 2,
   "id": "3c745b8c-ebf1-40b6-ab3e-e2b607784535",
   "metadata": {
    "tags": []
   },
   "outputs": [],
   "source": [
    "os.chdir('src/')\n",
    "\n",
    "from PipelineClass import Pipeline"
   ]
  },
  {
   "cell_type": "markdown",
   "id": "89d78084-559a-4057-8399-a396b20365e9",
   "metadata": {},
   "source": [
    "2. Set up test variables"
   ]
  },
  {
   "cell_type": "code",
   "execution_count": 3,
   "id": "9b677d13-68fe-433a-a3e7-7448bbbec695",
   "metadata": {
    "tags": []
   },
   "outputs": [],
   "source": [
    "import pandas as pd\n",
    "\n",
    "input_df = pd.DataFrame(columns = ['A','B','C','D'],\n",
    "                        data = [['banana',2,3,'fruit'],\n",
    "                                [5,6,7,'veggie']])"
   ]
  },
  {
   "cell_type": "code",
   "execution_count": 10,
   "id": "67a83178-317e-4b7f-beee-0c9fe7286453",
   "metadata": {
    "tags": []
   },
   "outputs": [
    {
     "data": {
      "text/html": [
       "<div>\n",
       "<style scoped>\n",
       "    .dataframe tbody tr th:only-of-type {\n",
       "        vertical-align: middle;\n",
       "    }\n",
       "\n",
       "    .dataframe tbody tr th {\n",
       "        vertical-align: top;\n",
       "    }\n",
       "\n",
       "    .dataframe thead th {\n",
       "        text-align: right;\n",
       "    }\n",
       "</style>\n",
       "<table border=\"1\" class=\"dataframe\">\n",
       "  <thead>\n",
       "    <tr style=\"text-align: right;\">\n",
       "      <th></th>\n",
       "      <th>A</th>\n",
       "      <th>B</th>\n",
       "      <th>C</th>\n",
       "      <th>D</th>\n",
       "    </tr>\n",
       "  </thead>\n",
       "  <tbody>\n",
       "    <tr>\n",
       "      <th>0</th>\n",
       "      <td>banana</td>\n",
       "      <td>2</td>\n",
       "      <td>3</td>\n",
       "      <td>fruit</td>\n",
       "    </tr>\n",
       "    <tr>\n",
       "      <th>1</th>\n",
       "      <td>5</td>\n",
       "      <td>6</td>\n",
       "      <td>7</td>\n",
       "      <td>veggie</td>\n",
       "    </tr>\n",
       "  </tbody>\n",
       "</table>\n",
       "</div>"
      ],
      "text/plain": [
       "        A  B  C       D\n",
       "0  banana  2  3   fruit\n",
       "1       5  6  7  veggie"
      ]
     },
     "execution_count": 10,
     "metadata": {},
     "output_type": "execute_result"
    }
   ],
   "source": [
    "input_df"
   ]
  },
  {
   "cell_type": "markdown",
   "id": "5fbf2dd4-8468-4f72-aa92-18031532993a",
   "metadata": {},
   "source": [
    "3. Execute script functions"
   ]
  },
  {
   "cell_type": "code",
   "execution_count": 4,
   "id": "d7221e9e-4624-4e54-b9a6-f13d798b8865",
   "metadata": {
    "tags": []
   },
   "outputs": [],
   "source": [
    "pipeline = Pipeline(input_df)"
   ]
  },
  {
   "cell_type": "code",
   "execution_count": 5,
   "id": "c92dc63b-62af-4112-8072-52a7ee2f96e8",
   "metadata": {},
   "outputs": [
    {
     "name": "stdout",
     "output_type": "stream",
     "text": [
      "Functions available in the class object:\n",
      "- DropColumns\n",
      "- RecodeColumnNames\n",
      "- RecodeColumnTypes\n",
      "- RecodeColumnValues\n",
      "- SumColumnValues\n"
     ]
    }
   ],
   "source": [
    "pipeline.listFunctions()"
   ]
  },
  {
   "cell_type": "code",
   "execution_count": 6,
   "id": "0421792a-4c69-4917-8cb3-2c5db2122c6e",
   "metadata": {
    "tags": []
   },
   "outputs": [],
   "source": [
    "pipeline.DropColumns([\"C\"])\n",
    "pipeline.RecodeColumnNames({'A':'a','B':'b'})\n",
    "pipeline.RecodeColumnTypes({'b': 'string', 'D': 'bool'})\n",
    "pipeline.RecodeColumnValues('a',{5: 'apple'})\n",
    "pipeline.SumColumnValues(['b','D'],'b+D')"
   ]
  },
  {
   "cell_type": "code",
   "execution_count": 7,
   "id": "bc617a42-08e4-4c25-b405-95e226dbac2e",
   "metadata": {
    "tags": []
   },
   "outputs": [
    {
     "name": "stdout",
     "output_type": "stream",
     "text": [
      "\n",
      "1. The following columns were dropped:            ['C']\n",
      "2. The following dictionary was used to recode the names of the columns:            {'A': 'a', 'B': 'b'}\n",
      "3. The following dictionary was used to recode the dtypes of the columns:            {'b': 'string', 'D': 'bool'}\n",
      "4. The following dictionary was used to recode the dtypes of the columns:            {'a': 'categorical'}\n",
      "5. The following dictionary was used to recode the values of column 'a':            {5: 'apple'}\n",
      "6. The following dictionary was used to recode the dtypes of the columns:            {'b': 'float', 'D': 'float'}\n",
      "7. The column 'b+D' was created and populated with the row-wise sums of the following columns:            ['b', 'D']\n",
      "\n"
     ]
    }
   ],
   "source": [
    "print(pipeline)"
   ]
  },
  {
   "cell_type": "code",
   "execution_count": 8,
   "id": "4aad42db-e1e5-4a95-8f6c-d83273458923",
   "metadata": {
    "tags": []
   },
   "outputs": [
    {
     "data": {
      "text/html": [
       "<div>\n",
       "<style scoped>\n",
       "    .dataframe tbody tr th:only-of-type {\n",
       "        vertical-align: middle;\n",
       "    }\n",
       "\n",
       "    .dataframe tbody tr th {\n",
       "        vertical-align: top;\n",
       "    }\n",
       "\n",
       "    .dataframe thead th {\n",
       "        text-align: right;\n",
       "    }\n",
       "</style>\n",
       "<table border=\"1\" class=\"dataframe\">\n",
       "  <thead>\n",
       "    <tr style=\"text-align: right;\">\n",
       "      <th></th>\n",
       "      <th>a</th>\n",
       "      <th>b</th>\n",
       "      <th>D</th>\n",
       "      <th>b+D</th>\n",
       "    </tr>\n",
       "  </thead>\n",
       "  <tbody>\n",
       "    <tr>\n",
       "      <th>0</th>\n",
       "      <td>banana</td>\n",
       "      <td>2.0</td>\n",
       "      <td>1.0</td>\n",
       "      <td>3.0</td>\n",
       "    </tr>\n",
       "    <tr>\n",
       "      <th>1</th>\n",
       "      <td>apple</td>\n",
       "      <td>6.0</td>\n",
       "      <td>1.0</td>\n",
       "      <td>7.0</td>\n",
       "    </tr>\n",
       "  </tbody>\n",
       "</table>\n",
       "</div>"
      ],
      "text/plain": [
       "        a    b    D  b+D\n",
       "0  banana  2.0  1.0  3.0\n",
       "1   apple  6.0  1.0  7.0"
      ]
     },
     "execution_count": 8,
     "metadata": {},
     "output_type": "execute_result"
    }
   ],
   "source": [
    "pipeline.data"
   ]
  },
  {
   "cell_type": "code",
   "execution_count": 9,
   "id": "bcddb53d-179c-415d-be32-d0d89ff7be8a",
   "metadata": {
    "tags": []
   },
   "outputs": [
    {
     "data": {
      "text/plain": [
       "{1: {'DropColumns': ['C']},\n",
       " 2: {'RecodeColumnNames': {'A': 'a', 'B': 'b'}},\n",
       " 3: {'RecodeColumnTypes': {'b': 'string', 'D': 'bool'}},\n",
       " 4: {'RecodeColumnTypes': {'a': 'categorical'}},\n",
       " 5: {'RecodeColumnValues': ('a', {5: 'apple'})},\n",
       " 6: {'RecodeColumnTypes': {'b': 'float', 'D': 'float'}},\n",
       " 7: {'SumColumnValues': (['b', 'D'], 'b+D')}}"
      ]
     },
     "execution_count": 9,
     "metadata": {},
     "output_type": "execute_result"
    }
   ],
   "source": [
    "pipeline.artifacts"
   ]
  },
  {
   "cell_type": "code",
   "execution_count": 11,
   "id": "b072f90c-e6b6-43b7-9f15-b3c6d1c6d4f7",
   "metadata": {
    "tags": []
   },
   "outputs": [],
   "source": [
    "pipeline2 = Pipeline(input_df)"
   ]
  },
  {
   "cell_type": "code",
   "execution_count": 12,
   "id": "b4ff3f41-84cf-4ecc-9a6d-41a6be11c658",
   "metadata": {
    "tags": []
   },
   "outputs": [],
   "source": [
    "pipeline2.importArtifacts(pipeline.artifacts)"
   ]
  },
  {
   "cell_type": "code",
   "execution_count": 13,
   "id": "a96babab-b7bc-49c9-b4c9-1af1312cb75b",
   "metadata": {
    "tags": []
   },
   "outputs": [
    {
     "data": {
      "text/plain": [
       "{1: {'DropColumns': ['C']},\n",
       " 2: {'RecodeColumnNames': {'A': 'a', 'B': 'b'}},\n",
       " 3: {'RecodeColumnTypes': {'b': 'string', 'D': 'bool'}},\n",
       " 4: {'RecodeColumnTypes': {'a': 'categorical'}},\n",
       " 5: {'RecodeColumnTypes': {'a': 'categorical'}},\n",
       " 6: {'RecodeColumnValues': ('a', {5: 'apple'})},\n",
       " 7: {'RecodeColumnTypes': {'b': 'float', 'D': 'float'}},\n",
       " 8: {'RecodeColumnTypes': {'b': 'float', 'D': 'float'}},\n",
       " 9: {'SumColumnValues': (['b', 'D'], 'b+D')}}"
      ]
     },
     "execution_count": 13,
     "metadata": {},
     "output_type": "execute_result"
    }
   ],
   "source": [
    "pipeline2.artifacts"
   ]
  },
  {
   "cell_type": "code",
   "execution_count": 14,
   "id": "7d94745f-9921-4285-943b-d3e918d98a7a",
   "metadata": {
    "tags": []
   },
   "outputs": [
    {
     "data": {
      "text/html": [
       "<div>\n",
       "<style scoped>\n",
       "    .dataframe tbody tr th:only-of-type {\n",
       "        vertical-align: middle;\n",
       "    }\n",
       "\n",
       "    .dataframe tbody tr th {\n",
       "        vertical-align: top;\n",
       "    }\n",
       "\n",
       "    .dataframe thead th {\n",
       "        text-align: right;\n",
       "    }\n",
       "</style>\n",
       "<table border=\"1\" class=\"dataframe\">\n",
       "  <thead>\n",
       "    <tr style=\"text-align: right;\">\n",
       "      <th></th>\n",
       "      <th>a</th>\n",
       "      <th>b</th>\n",
       "      <th>D</th>\n",
       "      <th>b+D</th>\n",
       "    </tr>\n",
       "  </thead>\n",
       "  <tbody>\n",
       "    <tr>\n",
       "      <th>0</th>\n",
       "      <td>True</td>\n",
       "      <td>True</td>\n",
       "      <td>True</td>\n",
       "      <td>True</td>\n",
       "    </tr>\n",
       "    <tr>\n",
       "      <th>1</th>\n",
       "      <td>True</td>\n",
       "      <td>True</td>\n",
       "      <td>True</td>\n",
       "      <td>True</td>\n",
       "    </tr>\n",
       "  </tbody>\n",
       "</table>\n",
       "</div>"
      ],
      "text/plain": [
       "      a     b     D   b+D\n",
       "0  True  True  True  True\n",
       "1  True  True  True  True"
      ]
     },
     "execution_count": 14,
     "metadata": {},
     "output_type": "execute_result"
    }
   ],
   "source": [
    "pipeline2.data == pipeline.data"
   ]
  }
 ],
 "metadata": {
  "kernelspec": {
   "display_name": "default:Python",
   "language": "python",
   "name": "conda-env-default-py"
  },
  "language_info": {
   "codemirror_mode": {
    "name": "ipython",
    "version": 3
   },
   "file_extension": ".py",
   "mimetype": "text/x-python",
   "name": "python",
   "nbconvert_exporter": "python",
   "pygments_lexer": "ipython3",
   "version": "3.9.16"
  }
 },
 "nbformat": 4,
 "nbformat_minor": 5
}
