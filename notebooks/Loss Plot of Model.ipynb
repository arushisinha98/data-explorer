{
 "cells": [
  {
   "cell_type": "markdown",
   "metadata": {},
   "source": [
    "# Loss Plot"
   ]
  },
  {
   "cell_type": "code",
   "execution_count": 1,
   "metadata": {},
   "outputs": [],
   "source": [
    "import torch\n",
    "import numpy as np\n",
    "\n",
    "torch.manual_seed(0)\n",
    "np.random.seed(0)"
   ]
  },
  {
   "cell_type": "code",
   "execution_count": 2,
   "metadata": {},
   "outputs": [],
   "source": [
    "import sys\n",
    "# USER INPUT IS REQUIRED\n",
    "# pass the absolute path to CTGAN folder so that we can import TVAESynthesizer in the next step.\n",
    "sys.path.append(\"/Users/stb/Documents/Synthetic Data Generation/CTGAN Work\")"
   ]
  },
  {
   "cell_type": "code",
   "execution_count": 3,
   "metadata": {},
   "outputs": [],
   "source": [
    "# Import libraries\n",
    "import os\n",
    "import pandas as pd\n",
    "#import scipy.stats as stats\n",
    "import matplotlib.pyplot as plt\n",
    "from pathlib import Path\n",
    "from sklearn.model_selection import train_test_split\n",
    "from ctgan import TVAESynthesizer"
   ]
  },
  {
   "cell_type": "code",
   "execution_count": 4,
   "metadata": {},
   "outputs": [
    {
     "data": {
      "text/plain": [
       "'/Users/stb/Documents/Synthetic Data Generation/Step3'"
      ]
     },
     "execution_count": 4,
     "metadata": {},
     "output_type": "execute_result"
    }
   ],
   "source": [
    "cwd = os.getcwd()\n",
    "cwd"
   ]
  },
  {
   "cell_type": "markdown",
   "metadata": {},
   "source": [
    "# Load saved models"
   ]
  },
  {
   "cell_type": "code",
   "execution_count": 5,
   "metadata": {},
   "outputs": [],
   "source": [
    "# model = torch.load(cwd + r'/../Training Trials/tvae/2019/20 modes eps 1e-3/tvae_PID3684/tvae_PID3684_20210828_123922.pkl', map_location=torch.device('cpu'))\n",
    "\n",
    "model = torch.load('/Users/stb/Documents/Synthetic Data Generation/Training Trials/tvae/2019/20 modes eps 1e-3/kiv-tvae_PID30284/tvae_model_17_PID30284_20210901_051121.pkl', map_location=torch.device('cpu'))\n",
    "\n",
    "\n",
    "\n"
   ]
  },
  {
   "cell_type": "code",
   "execution_count": 6,
   "metadata": {},
   "outputs": [],
   "source": [
    "case = ['Model']"
   ]
  },
  {
   "cell_type": "markdown",
   "metadata": {},
   "source": [
    "# ELBO Loss"
   ]
  },
  {
   "cell_type": "code",
   "execution_count": 7,
   "metadata": {},
   "outputs": [
    {
     "data": {
      "image/png": "[encoded data removed]",
      "text/plain": [
       "<Figure size 1152x360 with 1 Axes>"
      ]
     },
     "metadata": {
      "needs_background": "light"
     },
     "output_type": "display_data"
    }
   ],
   "source": [
    "fig,ax = plt.subplots(figsize=(16, 5))\n",
    "ax.set_title('ELBO Loss')\n",
    "ax.plot(model.total_loss,color='b',label='Training Loss')\n",
    "ax.plot(model.val_loss,color='r',label='Validation Loss')\n",
    "# plt.xlim([1490, 1500])\n",
    "ax.legend(fontsize=10);"
   ]
  },
  {
   "cell_type": "code",
   "execution_count": 8,
   "metadata": {},
   "outputs": [
    {
     "name": "stdout",
     "output_type": "stream",
     "text": [
      "Model Trn Loss: 54.434807\n",
      "Model Val Loss: 59.469173\n",
      "Model Min Epoch (Val Loss): 2099\n",
      "Model Embedded Mov Avg Var: -0.000117550204\n",
      "Model Embedded Mov Avg SD: 0.9744994\n"
     ]
    }
   ],
   "source": [
    "print('Model Trn Loss: ' + str(min(model.total_loss)))\n",
    "print('Model Val Loss: ' + str(min(model.val_loss).numpy()))\n",
    "print('Model Min Epoch (Val Loss): ' + str(np.argmin(np.array(model.val_loss))))\n",
    "print('Model Embedded Mov Avg Var: ' + str(model.ema_mu.detach().numpy()))\n",
    "print('Model Embedded Mov Avg SD: ' + str(model.ema_std.detach().numpy()))"
   ]
  },
  {
   "cell_type": "code",
   "execution_count": 9,
   "metadata": {},
   "outputs": [
    {
     "name": "stdout",
     "output_type": "stream",
     "text": [
      "Dense Layers: 1\n",
      "Embedding Dim: 256\n",
      "Compress Dim: [1024 1024  896  768  640]\n",
      "Decompress Dim: [1024 1024  896  768  640]\n",
      "Log Frequency: True\n",
      "L2 scale: 1e-06\n",
      "Batch Size: 1500\n",
      "Epochs: 2100\n",
      "LR: 2e-06\n",
      "Loss factor: 1\n",
      "Conditional Generator Encoder: False\n",
      "Conditional Generator Latent: False\n"
     ]
    }
   ],
   "source": [
    "print('Dense Layers: ' + str(model.dense_layers))\n",
    "print('Embedding Dim: ' + str(model.embedding_dim))\n",
    "print('Compress Dim: ' + str(model.compress_dims))\n",
    "print('Decompress Dim: ' + str(model.decompress_dims))\n",
    "print('Log Frequency: ' + str(model.log_frequency))\n",
    "print('L2 scale: ' + str(model.l2scale))\n",
    "print('Batch Size: ' + str(model.batch_size))\n",
    "print('Epochs: ' + str(model.epochs))\n",
    "print('LR: ' + str(model.lr))\n",
    "print('Loss factor: ' + str(model.loss_factor))\n",
    "print('Conditional Generator Encoder: ' + str(model.cond_gen_encoder))\n",
    "print('Conditional Generator Latent: ' + str(model.cond_gen_latent))"
   ]
  },
  {
   "cell_type": "code",
   "execution_count": null,
   "metadata": {},
   "outputs": [],
   "source": []
  }
 ],
 "metadata": {
  "kernelspec": {
   "display_name": "Python 3 (ipykernel)",
   "language": "python",
   "name": "python3"
  },
  "language_info": {
   "codemirror_mode": {
    "name": "ipython",
    "version": 3
   },
   "file_extension": ".py",
   "mimetype": "text/x-python",
   "name": "python",
   "nbconvert_exporter": "python",
   "pygments_lexer": "ipython3",
   "version": "3.8.11"
  }
 },
 "nbformat": 4,
 "nbformat_minor": 4
}
