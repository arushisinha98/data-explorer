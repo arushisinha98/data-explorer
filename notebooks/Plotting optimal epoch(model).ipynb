{
 "cells": [
  {
   "cell_type": "code",
   "execution_count": 1,
   "id": "81beaaa9",
   "metadata": {},
   "outputs": [],
   "source": [
    "import numpy as np\n",
    "import re\n",
    "import os\n",
    "from os import walk\n",
    "import pandas as pd\n",
    "import matplotlib.pyplot as plt\n",
    "from pathlib import Path"
   ]
  },
  {
   "cell_type": "code",
   "execution_count": 2,
   "id": "124ade76",
   "metadata": {},
   "outputs": [
    {
     "name": "stdout",
     "output_type": "stream",
     "text": [
      "/Users/stb/Documents/Synthetic Data Generation/Step3\n"
     ]
    }
   ],
   "source": [
    "cwd = os.getcwd()\n",
    "print(cwd)"
   ]
  },
  {
   "cell_type": "code",
   "execution_count": 3,
   "id": "b28689d0",
   "metadata": {},
   "outputs": [],
   "source": [
    "# mypath=cwd+r'\\tvae_trn01' #input model file name?\n",
    "mypath='/Users/stb/Documents/Synthetic Data Generation/Training Trials/tvae/2019/20 modes eps 5e-4/tvae_PID9263'"
   ]
  },
  {
   "cell_type": "code",
   "execution_count": 4,
   "id": "9334e497",
   "metadata": {},
   "outputs": [],
   "source": [
    "filenames = (next(walk(mypath), (None, None, []))[2])"
   ]
  },
  {
   "cell_type": "code",
   "execution_count": 5,
   "id": "4664c069",
   "metadata": {},
   "outputs": [
    {
     "data": {
      "text/plain": [
       "['summary_PID9263_20210902_065231_0.txt',\n",
       " 'summary_PID9263_20210902_084405_1.txt',\n",
       " 'summary_PID9263_20210902_104620_2.txt',\n",
       " 'summary_PID9263_20210902_132859_3.txt',\n",
       " 'summary_PID9263_20210902_141540_4.txt',\n",
       " 'summary_PID9263_20210902_164345_5.txt',\n",
       " 'summary_PID9263_20210902_190130_6.txt',\n",
       " 'summary_PID9263_20210902_210023_7.txt',\n",
       " 'summary_PID9263_20210902_234633_8.txt',\n",
       " 'summary_PID9263_20210903_015600_9.txt',\n",
       " 'summary_PID9263_20210903_043147_10.txt',\n",
       " 'summary_PID9263_20210903_064746_11.txt',\n",
       " 'summary_PID9263_20210903_090108_12.txt',\n",
       " 'summary_PID9263_20210903_112848_13.txt',\n",
       " 'summary_PID9263_20210903_134420_14.txt',\n",
       " 'summary_PID9263_20210903_161140_15.txt',\n",
       " 'summary_PID9263_20210903_171924_16.txt',\n",
       " 'summary_PID9263_20210903_200325_17.txt',\n",
       " 'summary_PID9263_20210903_221037_18.txt',\n",
       " 'summary_PID9263_20210904_011938_19.txt',\n",
       " 'summary_PID9263_20210904_012911_20.txt',\n",
       " 'summary_PID9263_20210904_023959_21.txt',\n",
       " 'summary_PID9263_20210904_024928_22.txt',\n",
       " 'summary_PID9263_20210904_025903_23.txt',\n",
       " 'summary_PID9263_20210904_044757_24.txt',\n",
       " 'summary_PID9263_20210904_064939_25.txt',\n",
       " 'summary_PID9263_20210904_075748_26.txt',\n",
       " 'summary_PID9263_20210904_093956_27.txt',\n",
       " 'summary_PID9263_20210904_113911_28.txt',\n",
       " 'summary_PID9263_20210904_133030_29.txt']"
      ]
     },
     "execution_count": 5,
     "metadata": {},
     "output_type": "execute_result"
    }
   ],
   "source": [
    "filenames = [x for x in filenames if (('.txt' in x) & ('optuna_trials_summary.txt' not in x))]\n",
    "# filenames = filenames.sort()\n",
    "filenames.sort()\n",
    "filenames"
   ]
  },
  {
   "cell_type": "code",
   "execution_count": 6,
   "id": "bf1e5b15",
   "metadata": {},
   "outputs": [],
   "source": [
    "keepinglist=[] # keep only successful runs"
   ]
  },
  {
   "cell_type": "code",
   "execution_count": 7,
   "id": "5ebbef2b",
   "metadata": {},
   "outputs": [],
   "source": [
    "for file in os.listdir(mypath):\n",
    "    if file.endswith(\".pkl\"):\n",
    "        keepinglist.append(file)"
   ]
  },
  {
   "cell_type": "code",
   "execution_count": 8,
   "id": "f5d107e2",
   "metadata": {},
   "outputs": [
    {
     "data": {
      "text/plain": [
       "[23, 12, 13, 9, 5]"
      ]
     },
     "execution_count": 8,
     "metadata": {},
     "output_type": "execute_result"
    }
   ],
   "source": [
    "import re\n",
    "\n",
    "keepinglist=list(map(lambda x: int(re.findall(r\"^.+_([0-9]{1,2})_PID.+(.pkl)$\", x)[0][0]), keepinglist))\n",
    "keepinglist"
   ]
  },
  {
   "cell_type": "code",
   "execution_count": 9,
   "id": "49e48409",
   "metadata": {},
   "outputs": [
    {
     "data": {
      "text/plain": [
       "['summary_PID9263_20210904_025903_23.txt',\n",
       " 'summary_PID9263_20210903_090108_12.txt',\n",
       " 'summary_PID9263_20210903_112848_13.txt',\n",
       " 'summary_PID9263_20210903_015600_9.txt',\n",
       " 'summary_PID9263_20210902_164345_5.txt']"
      ]
     },
     "execution_count": 9,
     "metadata": {},
     "output_type": "execute_result"
    }
   ],
   "source": [
    "filenames=[filenames[i] for i in keepinglist]\n",
    "filenames"
   ]
  },
  {
   "cell_type": "code",
   "execution_count": 10,
   "id": "790437f0",
   "metadata": {},
   "outputs": [],
   "source": [
    "column_names = [\"trial_name\",\"loss_min\",\"epoch_min\",\"epoch_max\"]\n",
    "consolidating = pd.DataFrame(columns = column_names)"
   ]
  },
  {
   "cell_type": "code",
   "execution_count": 11,
   "id": "da3b8439",
   "metadata": {},
   "outputs": [
    {
     "name": "stderr",
     "output_type": "stream",
     "text": [
      "/var/folders/_m/f1cf6y6d1fx5pj169kdr1ztw0000gp/T/ipykernel_16428/1991580342.py:12: FutureWarning: In a future version of pandas all arguments of DataFrame.drop except for the argument 'labels' will be keyword-only\n",
      "  data_info = data_info.drop([0], 1)\n",
      "/var/folders/_m/f1cf6y6d1fx5pj169kdr1ztw0000gp/T/ipykernel_16428/1991580342.py:12: FutureWarning: In a future version of pandas all arguments of DataFrame.drop except for the argument 'labels' will be keyword-only\n",
      "  data_info = data_info.drop([0], 1)\n",
      "/var/folders/_m/f1cf6y6d1fx5pj169kdr1ztw0000gp/T/ipykernel_16428/1991580342.py:12: FutureWarning: In a future version of pandas all arguments of DataFrame.drop except for the argument 'labels' will be keyword-only\n",
      "  data_info = data_info.drop([0], 1)\n",
      "/var/folders/_m/f1cf6y6d1fx5pj169kdr1ztw0000gp/T/ipykernel_16428/1991580342.py:12: FutureWarning: In a future version of pandas all arguments of DataFrame.drop except for the argument 'labels' will be keyword-only\n",
      "  data_info = data_info.drop([0], 1)\n",
      "/var/folders/_m/f1cf6y6d1fx5pj169kdr1ztw0000gp/T/ipykernel_16428/1991580342.py:12: FutureWarning: In a future version of pandas all arguments of DataFrame.drop except for the argument 'labels' will be keyword-only\n",
      "  data_info = data_info.drop([0], 1)\n"
     ]
    },
    {
     "data": {
      "image/png": "[encoded data removed]",
      "text/plain": [
       "<Figure size 432x288 with 1 Axes>"
      ]
     },
     "metadata": {
      "needs_background": "light"
     },
     "output_type": "display_data"
    },
    {
     "data": {
      "image/png": "[encoded data removed]",
      "text/plain": [
       "<Figure size 432x288 with 1 Axes>"
      ]
     },
     "metadata": {
      "needs_background": "light"
     },
     "output_type": "display_data"
    },
    {
     "data": {
      "image/png": "[encoded data removed]",
      "text/plain": [
       "<Figure size 432x288 with 1 Axes>"
      ]
     },
     "metadata": {
      "needs_background": "light"
     },
     "output_type": "display_data"
    },
    {
     "data": {
      "image/png": "[encoded data removed]",
      "text/plain": [
       "<Figure size 432x288 with 1 Axes>"
      ]
     },
     "metadata": {
      "needs_background": "light"
     },
     "output_type": "display_data"
    },
    {
     "data": {
      "image/png": "[encoded data removed]",
      "text/plain": [
       "<Figure size 432x288 with 1 Axes>"
      ]
     },
     "metadata": {
      "needs_background": "light"
     },
     "output_type": "display_data"
    }
   ],
   "source": [
    "\n",
    "for i in filenames:\n",
    "    file_path=mypath+\"/\"+i\n",
    "    with open (file_path, \"r\") as myfile:\n",
    "        data = myfile.readlines()\n",
    "    data_info=pd.DataFrame(data[14:-1])\n",
    "    data_info[['Epoch','Training_Loss','Validation_Loss','Loss 1(NLL)','Loss 2(KLD)']] = data_info[0].str.split(',',expand=True)\n",
    "    data_info = data_info.loc[data_info.Validation_Loss.notnull(),]\n",
    "\n",
    "    data_info['Epoch'] = data_info['Epoch'].apply(lambda x: int(x[23::]))\n",
    "    data_info['Training_Loss'] = data_info['Training_Loss'].apply(lambda x: float(list((re.compile('-?\\d+.\\d+')).findall(x))[0]))\n",
    "    data_info['Validation_Loss'] = data_info['Validation_Loss'].apply(lambda x: float(list((re.compile('\\d+.\\d+')).findall(x))[0]))\n",
    "    data_info = data_info.drop([0], 1)\n",
    "    ax = data_info.plot( 'Epoch' , 'Validation_Loss', color='r',label='Validation Loss')\n",
    "    data_info.plot('Epoch' , 'Training_Loss', color='b',label='Training Loss', ax = ax)\n",
    "\n",
    "    \n",
    "    loss_min=min(data_info['Validation_Loss'])\n",
    "    loss_range_max=(max(data_info['Validation_Loss'])-loss_min)*0.2+loss_min\n",
    "    range_data=data_info[data_info['Validation_Loss']<=loss_range_max]\n",
    "    epoch_min=min(range_data['Epoch'])  \n",
    "    epoch_max=max(range_data['Epoch']) \n",
    "    row_val=[i,loss_min,epoch_min,epoch_max]\n",
    "    df_length = len(consolidating)\n",
    "    consolidating.loc[df_length] = row_val"
   ]
  },
  {
   "cell_type": "code",
   "execution_count": 12,
   "id": "602c2dcb",
   "metadata": {},
   "outputs": [
    {
     "data": {
      "text/html": [
       "<div>\n",
       "<style scoped>\n",
       "    .dataframe tbody tr th:only-of-type {\n",
       "        vertical-align: middle;\n",
       "    }\n",
       "\n",
       "    .dataframe tbody tr th {\n",
       "        vertical-align: top;\n",
       "    }\n",
       "\n",
       "    .dataframe thead th {\n",
       "        text-align: right;\n",
       "    }\n",
       "</style>\n",
       "<table border=\"1\" class=\"dataframe\">\n",
       "  <thead>\n",
       "    <tr style=\"text-align: right;\">\n",
       "      <th></th>\n",
       "      <th>trial_name</th>\n",
       "      <th>loss_min</th>\n",
       "      <th>epoch_min</th>\n",
       "      <th>epoch_max</th>\n",
       "    </tr>\n",
       "  </thead>\n",
       "  <tbody>\n",
       "    <tr>\n",
       "      <th>0</th>\n",
       "      <td>summary_PID9263_20210904_025903_23.txt</td>\n",
       "      <td>65.465930</td>\n",
       "      <td>68</td>\n",
       "      <td>1600</td>\n",
       "    </tr>\n",
       "    <tr>\n",
       "      <th>1</th>\n",
       "      <td>summary_PID9263_20210903_090108_12.txt</td>\n",
       "      <td>56.490673</td>\n",
       "      <td>72</td>\n",
       "      <td>2000</td>\n",
       "    </tr>\n",
       "    <tr>\n",
       "      <th>2</th>\n",
       "      <td>summary_PID9263_20210903_112848_13.txt</td>\n",
       "      <td>62.848503</td>\n",
       "      <td>93</td>\n",
       "      <td>2000</td>\n",
       "    </tr>\n",
       "    <tr>\n",
       "      <th>3</th>\n",
       "      <td>summary_PID9263_20210903_015600_9.txt</td>\n",
       "      <td>58.117230</td>\n",
       "      <td>52</td>\n",
       "      <td>2100</td>\n",
       "    </tr>\n",
       "    <tr>\n",
       "      <th>4</th>\n",
       "      <td>summary_PID9263_20210902_164345_5.txt</td>\n",
       "      <td>54.238483</td>\n",
       "      <td>85</td>\n",
       "      <td>2100</td>\n",
       "    </tr>\n",
       "  </tbody>\n",
       "</table>\n",
       "</div>"
      ],
      "text/plain": [
       "                               trial_name   loss_min epoch_min epoch_max\n",
       "0  summary_PID9263_20210904_025903_23.txt  65.465930        68      1600\n",
       "1  summary_PID9263_20210903_090108_12.txt  56.490673        72      2000\n",
       "2  summary_PID9263_20210903_112848_13.txt  62.848503        93      2000\n",
       "3   summary_PID9263_20210903_015600_9.txt  58.117230        52      2100\n",
       "4   summary_PID9263_20210902_164345_5.txt  54.238483        85      2100"
      ]
     },
     "execution_count": 12,
     "metadata": {},
     "output_type": "execute_result"
    }
   ],
   "source": [
    "consolidating"
   ]
  },
  {
   "cell_type": "code",
   "execution_count": null,
   "id": "a22630d7",
   "metadata": {},
   "outputs": [],
   "source": []
  }
 ],
 "metadata": {
  "kernelspec": {
   "display_name": "Python 3 (ipykernel)",
   "language": "python",
   "name": "python3"
  },
  "language_info": {
   "codemirror_mode": {
    "name": "ipython",
    "version": 3
   },
   "file_extension": ".py",
   "mimetype": "text/x-python",
   "name": "python",
   "nbconvert_exporter": "python",
   "pygments_lexer": "ipython3",
   "version": "3.8.11"
  }
 },
 "nbformat": 4,
 "nbformat_minor": 5
}
