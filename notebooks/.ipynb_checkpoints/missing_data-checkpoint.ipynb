{
 "cells": [
  {
   "cell_type": "code",
   "execution_count": 1,
   "id": "2f3631e6",
   "metadata": {},
   "outputs": [],
   "source": [
    "import sys\n",
    "import os\n",
    "\n",
    "sys.path.append('../src/')\n",
    "\n",
    "from read_data import DataObject\n",
    "from constants import spend_categories\n",
    "from dataframe_utilities import get_filter_index, subgroup_sum, upsample\n",
    "\n",
    "OVS1619 = DataObject(source = \"OVS\", version = \"1619\")\n",
    "TVAE = DataObject(source = \"Synthetic\", version = \"?\", model = \"TVAE\")\n",
    "TGAN = DataObject(source = \"Synthetic\", version = \"?\", model = \"TGAN\")\n",
    "CTGAN = DataObject(source = \"Synthetic\", version = \"?\", model = \"CTGAN\")"
   ]
  },
  {
   "cell_type": "code",
   "execution_count": 13,
   "id": "4a62fedf",
   "metadata": {},
   "outputs": [
    {
     "name": "stdout",
     "output_type": "stream",
     "text": [
      "Empty cells in spend component columns\n",
      "OVS Data: 1619.\n",
      "Model: None\n",
      "Size: (88731, 293)\n",
      "Last Updated: 2023-09-02 19:08:28.042578\n",
      "\n",
      "                                                    Unfilled\n",
      "Expenditure on Accommodation (c4.tot.new)                  0\n",
      "Expenditure on F&B (c6.tot.new)                            0\n",
      "Expenditure on Transport (c7.tot.new)                      0\n",
      "Expenditure on Sightseeing & Entertainment (c10...         0\n",
      "Expenditure on Shopping (t7.m.any)                         0\n",
      "\n",
      "\n",
      "Synthetic Data: ?.\n",
      "Model: TVAE\n",
      "Size: (9905, 293)\n",
      "Last Updated: 2021-03-06 06:00:25\n",
      "\n",
      "                                                    Unfilled\n",
      "Expenditure on Accommodation (c4.tot.new)                  0\n",
      "Expenditure on F&B (c6.tot.new)                            0\n",
      "Expenditure on Transport (c7.tot.new)                      0\n",
      "Expenditure on Sightseeing & Entertainment (c10...         0\n",
      "Expenditure on Shopping (t7.m.any)                         0\n",
      "\n",
      "\n",
      "Synthetic Data: ?.\n",
      "Model: TGAN\n",
      "Size: (9905, 293)\n",
      "Last Updated: 2021-03-10 07:14:09\n",
      "\n",
      "                                                    Unfilled\n",
      "Expenditure on Accommodation (c4.tot.new)                  0\n",
      "Expenditure on F&B (c6.tot.new)                            0\n",
      "Expenditure on Transport (c7.tot.new)                      0\n",
      "Expenditure on Sightseeing & Entertainment (c10...         0\n",
      "Expenditure on Shopping (t7.m.any)                         0\n",
      "\n",
      "\n",
      "Synthetic Data: ?.\n",
      "Model: CTGAN\n",
      "Size: (9905, 293)\n",
      "Last Updated: 2021-03-10 07:14:09\n",
      "\n",
      "                                                    Unfilled\n",
      "Expenditure on Accommodation (c4.tot.new)                  0\n",
      "Expenditure on F&B (c6.tot.new)                            0\n",
      "Expenditure on Transport (c7.tot.new)                      0\n",
      "Expenditure on Sightseeing & Entertainment (c10...         0\n",
      "Expenditure on Shopping (t7.m.any)                         0\n",
      "\n",
      "\n"
     ]
    }
   ],
   "source": [
    "print(f\"Empty cells in spend component columns\")\n",
    "for obj in (OVS1619, TVAE, TGAN, CTGAN):\n",
    "    obj.data[spend_categories] = obj.data[obj.data[spend_categories] < 0]\n",
    "    print(f\"{obj}\\n\")\n",
    "    print(f\"{obj.data[spend_categories].isnull().sum().to_frame('Unfilled')}\")\n",
    "    print(\"\\n\")"
   ]
  },
  {
   "cell_type": "code",
   "execution_count": null,
   "id": "efaa5644",
   "metadata": {},
   "outputs": [],
   "source": []
  }
 ],
 "metadata": {
  "kernelspec": {
   "display_name": "Python 3 (ipykernel)",
   "language": "python",
   "name": "python3"
  },
  "language_info": {
   "codemirror_mode": {
    "name": "ipython",
    "version": 3
   },
   "file_extension": ".py",
   "mimetype": "text/x-python",
   "name": "python",
   "nbconvert_exporter": "python",
   "pygments_lexer": "ipython3",
   "version": "3.7.11"
  }
 },
 "nbformat": 4,
 "nbformat_minor": 5
}
